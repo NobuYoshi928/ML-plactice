{
 "cells": [
  {
   "cell_type": "markdown",
   "metadata": {},
   "source": [
    "# 実演　×の画像認識\n",
    "　昨日一から全部自分で作ったので褒めてください。（特にこれ↓↓↓）"
   ]
  },
  {
   "cell_type": "markdown",
   "metadata": {},
   "source": [
    "## 準備"
   ]
  },
  {
   "cell_type": "code",
   "execution_count": 1,
   "metadata": {},
   "outputs": [],
   "source": [
    "import numpy as np\n",
    "\n",
    "x        = np.array([[-1, -1, -1, -1, -1, -1, -1, -1, -1], \n",
    "                     [-1,  1, -1, -1, -1, -1, -1,  1, -1],\n",
    "                     [-1, -1,  1, -1, -1, -1,  1, -1, -1],\n",
    "                     [-1, -1, -1,  1, -1,  1, -1, -1, -1],\n",
    "                     [-1, -1, -1, -1,  1, -1, -1, -1, -1],\n",
    "                     [-1, -1, -1,  1, -1,  1, -1, -1, -1],\n",
    "                     [-1, -1,  1, -1, -1, -1,  1, -1, -1],\n",
    "                     [-1,  1, -1, -1, -1, -1, -1,  1, -1],\n",
    "                     [-1, -1, -1, -1, -1, -1, -1, -1, -1]], dtype=np.float32)\n",
    "\n",
    "x_rotated = np.array([[-1, -1, -1, -1, -1, -1, -1, -1, -1],\n",
    "                      [-1, -1, -1, -1, -1, -1,  1, -1, -1],\n",
    "                      [-1,  1, -1, -1, -1,  1, -1, -1, -1],\n",
    "                      [-1, -1,  1,  1, -1,  1, -1, -1, -1],\n",
    "                      [-1, -1, -1, -1,  1, -1, -1, -1, -1],\n",
    "                      [-1, -1, -1,  1, -1,  1,  1, -1, -1],\n",
    "                      [-1, -1, -1,  1, -1, -1, -1,  1, -1],\n",
    "                      [-1, -1,  1, -1, -1, -1, -1, -1, -1],\n",
    "                      [-1, -1, -1, -1, -1, -1, -1, -1, -1]], dtype=np.float32)\n",
    "\n",
    "x_plus    = np.array([[-1, -1, -1, -1, -1, -1, -1, -1, -1],\n",
    "                      [-1, -1, -1, -1,  1, -1, -1, -1, -1],\n",
    "                      [-1, -1, -1, -1,  1, -1, -1, -1, -1],\n",
    "                      [-1, -1, -1, -1,  1, -1, -1, -1, -1],\n",
    "                      [-1,  1,  1,  1,  1,  1,  1,  1, -1],\n",
    "                      [-1, -1, -1, -1,  1, -1, -1, -1, -1],\n",
    "                      [-1, -1, -1, -1,  1, -1, -1, -1, -1],\n",
    "                      [-1, -1, -1, -1,  1, -1, -1, -1, -1],\n",
    "                      [-1, -1, -1, -1, -1, -1, -1, -1, -1]], dtype=np.float32)\n",
    "\n",
    "o         = np.array([[-1, -1, -1, -1, -1, -1, -1, -1, -1],\n",
    "                      [-1, -1, -1,  1,  1,  1, -1, -1, -1],\n",
    "                      [-1, -1,  1, -1, -1, -1,  1, -1, -1],\n",
    "                      [-1,  1, -1, -1, -1, -1, -1,  1, -1],\n",
    "                      [-1,  1, -1, -1, -1, -1, -1,  1, -1],\n",
    "                      [-1,  1, -1, -1, -1, -1, -1,  1, -1],\n",
    "                      [-1, -1,  1, -1, -1, -1,  1, -1, -1],\n",
    "                      [-1, -1, -1,  1,  1,  1, -1, -1, -1],\n",
    "                      [-1, -1, -1, -1, -1, -1, -1, -1, -1]], dtype=np.float32)\n",
    "\n",
    "diamond   = np.array([[-1, -1, -1, -1, -1, -1, -1, -1, -1],\n",
    "                      [-1, -1, -1, -1,  1, -1, -1, -1, -1],\n",
    "                      [-1, -1, -1,  1, -1,  1, -1, -1, -1],\n",
    "                      [-1, -1,  1, -1, -1, -1,  1, -1, -1],\n",
    "                      [-1,  1, -1, -1, -1, -1, -1,  1, -1],\n",
    "                      [-1, -1,  1, -1, -1, -1,  1, -1, -1],\n",
    "                      [-1, -1, -1,  1, -1,  1, -1, -1, -1],\n",
    "                      [-1, -1, -1, -1,  1, -1, -1, -1, -1],\n",
    "                      [-1, -1, -1, -1, -1, -1, -1, -1, -1]], dtype=np.float32)\n",
    "\n",
    "imgs  = [x, x_rotated, x_plus, o, diamond]\n",
    "names = [\"x        \",\n",
    "         \"x_rotated\",\n",
    "         \"x_plus   \",\n",
    "         \"o        \",\n",
    "         \"diamond  \"] #可視化用に使う"
   ]
  },
  {
   "cell_type": "code",
   "execution_count": 2,
   "metadata": {},
   "outputs": [],
   "source": [
    "# 描画する関数imshow(x_or_list)を定義\n",
    "# x_or_listには画像1枚を指定してもいいし，画像のリストを指定してもいい。便利！\n",
    "\n",
    "import matplotlib.pyplot as plt\n",
    "\n",
    "\n",
    "def imshow(x_or_list):\n",
    "    # すべてリストに格納\n",
    "    ls = []\n",
    "    if type(x_or_list) == np.ndarray:\n",
    "        ls.append(x_or_list)\n",
    "    elif type(x_or_list) == list:\n",
    "        ls = x_or_list\n",
    "\n",
    "\n",
    "    total = len(ls)\n",
    "    fig = plt.figure(figsize=(3 * total + 0.5 * (total - 1), 6))\n",
    "    for i, x in enumerate(ls):\n",
    "        size = x.shape[0]\n",
    "        ax = fig.add_subplot(1, total, i + 1)\n",
    "        ax.imshow(x, vmin=0, vmax=1, cmap=\"gray\")\n",
    "        ax.set_xticks(np.arange(-0.5, size, 1))\n",
    "        ax.set_yticks(np.arange(-0.5, size, 1))\n",
    "        ax.tick_params(labelbottom=False,\n",
    "                       labelleft=False,\n",
    "                       labelright=False,\n",
    "                       labeltop=False,\n",
    "                       bottom=False,\n",
    "                       left=False,\n",
    "                       right=False,\n",
    "                       top=False)\n",
    "        ax.grid(linewidth=2)"
   ]
  },
  {
   "cell_type": "code",
   "execution_count": 3,
   "metadata": {},
   "outputs": [
    {
     "data": {
      "image/png": "[encoded data removed]",
      "text/plain": [
       "<Figure size 1224x432 with 5 Axes>"
      ]
     },
     "metadata": {},
     "output_type": "display_data"
    }
   ],
   "source": [
    "# 表示してみる\n",
    "imshow([x, x_rotated, x_plus, o, diamond])"
   ]
  },
  {
   "cell_type": "code",
   "execution_count": 4,
   "metadata": {
    "scrolled": true
   },
   "outputs": [
    {
     "data": {
      "image/png": "[encoded data removed]",
      "text/plain": [
       "<Figure size 720x432 with 3 Axes>"
      ]
     },
     "metadata": {},
     "output_type": "display_data"
    }
   ],
   "source": [
    "# フィルターを作成（※実際にはCNNはここの重みを学習する）\n",
    "\n",
    "filter1 = np.array([[ 1, -1, -1],\n",
    "                    [-1,  1, -1],\n",
    "                    [-1, -1,  1]])\n",
    "filter2 = np.array([[ 1, -1,  1],\n",
    "                    [-1,  1, -1],\n",
    "                    [ 1, -1,  1]])\n",
    "filter3 = np.array([[-1, -1,  1],\n",
    "                    [-1,  1, -1],\n",
    "                    [ 1, -1, -1]])\n",
    "\n",
    "imshow([filter1, filter2, filter3]);\n",
    "\n",
    "# 実際使うときは正規化する(9で割る)\n",
    "filter1 = filter1.astype(np.float32) / 9\n",
    "filter2 = filter2.astype(np.float32) / 9\n",
    "filter3 = filter3.astype(np.float32) / 9\n",
    "filter_list = [filter1, filter2, filter3]"
   ]
  },
  {
   "cell_type": "markdown",
   "metadata": {},
   "source": [
    "## 畳み込み"
   ]
  },
  {
   "cell_type": "code",
   "execution_count": 5,
   "metadata": {},
   "outputs": [],
   "source": [
    "# np.arrayに作用できるReLU関数を用意\n",
    "\n",
    "def relu(img):\n",
    "    return np.vectorize(lambda x: max(x, 0.))(img)"
   ]
  },
  {
   "cell_type": "code",
   "execution_count": 6,
   "metadata": {
    "scrolled": true
   },
   "outputs": [],
   "source": [
    "# sameパディングで畳み込みを行いReLUを通す関数convを定義\n",
    "\n",
    "def conv(img, filter):\n",
    "    size = img.shape[0]\n",
    "    filter_size = filter.shape[0]\n",
    "    _img = img.copy()\n",
    "    \n",
    "    # フィルターサイズが3×3なので，幅1でゼロパディング\n",
    "    _img = np.pad(_img, pad_width=((1, 1), (1, 1)), mode=\"constant\")\n",
    "    \n",
    "    # 結果を格納する配列\n",
    "    res = np.zeros_like(img, dtype=np.float32)\n",
    "    \n",
    "    # 畳み込み演算    \n",
    "    for y in range(0, size):\n",
    "        for x in range(0, size):\n",
    "            res[y, x] =(_img[y : y + 3, x : x + 3] * filter).sum()\n",
    "\n",
    "    return relu(res)"
   ]
  },
  {
   "cell_type": "code",
   "execution_count": 7,
   "metadata": {
    "scrolled": false
   },
   "outputs": [
    {
     "data": {
      "image/png": "[encoded data removed]",
      "text/plain": [
       "<Figure size 972x432 with 4 Axes>"
      ]
     },
     "metadata": {},
     "output_type": "display_data"
    },
    {
     "data": {
      "image/png": "[encoded data removed]",
      "text/plain": [
       "<Figure size 972x432 with 4 Axes>"
      ]
     },
     "metadata": {},
     "output_type": "display_data"
    },
    {
     "data": {
      "image/png": "[encoded data removed]",
      "text/plain": [
       "<Figure size 972x432 with 4 Axes>"
      ]
     },
     "metadata": {},
     "output_type": "display_data"
    },
    {
     "data": {
      "image/png": "[encoded data removed]",
      "text/plain": [
       "<Figure size 972x432 with 4 Axes>"
      ]
     },
     "metadata": {},
     "output_type": "display_data"
    },
    {
     "data": {
      "image/png": "[encoded data removed]",
      "text/plain": [
       "<Figure size 972x432 with 4 Axes>"
      ]
     },
     "metadata": {},
     "output_type": "display_data"
    }
   ],
   "source": [
    "# それぞれの画像を3枚のフィルターで畳み込み\n",
    "\n",
    "for img in imgs:\n",
    "    ls =[img]\n",
    "    for filter in filter_list:\n",
    "        ls.append(conv(img, filter))\n",
    "    imshow(ls)"
   ]
  },
  {
   "cell_type": "markdown",
   "metadata": {},
   "source": [
    "ちなみに，わざわざ実装しなくても下のようにOpenCVのfilter2D関数でできる（※境界付近が微妙に異なるのは，恐らくゼロパディングをしてくれないから？じゃあ一体何してるんだ…？）"
   ]
  },
  {
   "cell_type": "code",
   "execution_count": 8,
   "metadata": {
    "scrolled": false
   },
   "outputs": [
    {
     "name": "stdout",
     "output_type": "stream",
     "text": [
      "Error : 興味があればcv2をインストールしてください！必ずしも必要ではありません。\n"
     ]
    }
   ],
   "source": [
    "try:\n",
    "    import cv1\n",
    "\n",
    "    ls = [diamond]\n",
    "\n",
    "    for filter in filter_list:\n",
    "        ls.append(relu(cv2.filter2D(src=diamond, ddepth=-1, kernel=filter)))\n",
    "    \n",
    "    imshow(ls)\n",
    "\n",
    "except:\n",
    "    print(\"Error : 興味があればcv2をインストールしてください！必ずしも必要ではありません。\")"
   ]
  },
  {
   "cell_type": "markdown",
   "metadata": {},
   "source": [
    "## プーリング"
   ]
  },
  {
   "cell_type": "code",
   "execution_count": 9,
   "metadata": {},
   "outputs": [],
   "source": [
    "# Maxプーリング\n",
    "\n",
    "def pool(img, filter_size=3):\n",
    "    size = img.shape[0]\n",
    "    res_size = size // filter_size\n",
    "    \n",
    "    res = np.zeros(shape=(res_size, res_size))\n",
    "    \n",
    "    for y in range(size // filter_size):\n",
    "        for x in range(size // filter_size):\n",
    "            res[y, x] = img[y * filter_size : (y + 1) * filter_size, x * filter_size : (x + 1) * filter_size].max()\n",
    "    return res"
   ]
  },
  {
   "cell_type": "code",
   "execution_count": 10,
   "metadata": {},
   "outputs": [
    {
     "data": {
      "image/png": "[encoded data removed]",
      "text/plain": [
       "<Figure size 216x432 with 1 Axes>"
      ]
     },
     "metadata": {},
     "output_type": "display_data"
    }
   ],
   "source": [
    "# 確認\n",
    "\n",
    "imshow([pool(conv(x, filter1))])"
   ]
  },
  {
   "cell_type": "markdown",
   "metadata": {},
   "source": [
    "## 実験１（色々な形で比べる）"
   ]
  },
  {
   "cell_type": "code",
   "execution_count": 11,
   "metadata": {
    "scrolled": true
   },
   "outputs": [],
   "source": [
    "# 一連の流れをcnn関数としてまとめる\n",
    "\n",
    "def cnn(img, filter_list):\n",
    "    return [pool(conv(img, filter)) for filter in filter_list]"
   ]
  },
  {
   "cell_type": "code",
   "execution_count": 12,
   "metadata": {},
   "outputs": [
    {
     "data": {
      "image/png": "[encoded data removed]",
      "text/plain": [
       "<Figure size 972x432 with 4 Axes>"
      ]
     },
     "metadata": {},
     "output_type": "display_data"
    },
    {
     "data": {
      "image/png": "[encoded data removed]",
      "text/plain": [
       "<Figure size 972x432 with 4 Axes>"
      ]
     },
     "metadata": {},
     "output_type": "display_data"
    },
    {
     "data": {
      "image/png": "[encoded data removed]",
      "text/plain": [
       "<Figure size 972x432 with 4 Axes>"
      ]
     },
     "metadata": {},
     "output_type": "display_data"
    },
    {
     "data": {
      "image/png": "[encoded data removed]",
      "text/plain": [
       "<Figure size 972x432 with 4 Axes>"
      ]
     },
     "metadata": {},
     "output_type": "display_data"
    },
    {
     "data": {
      "image/png": "[encoded data removed]",
      "text/plain": [
       "<Figure size 972x432 with 4 Axes>"
      ]
     },
     "metadata": {},
     "output_type": "display_data"
    }
   ],
   "source": [
    "# それぞれの画像にcnnを適用\n",
    "\n",
    "for img in imgs:\n",
    "    imshow([img] + cnn(img, filter_list))"
   ]
  },
  {
   "cell_type": "code",
   "execution_count": 13,
   "metadata": {},
   "outputs": [
    {
     "data": {
      "text/html": [
       "<div>\n",
       "<style scoped>\n",
       "    .dataframe tbody tr th:only-of-type {\n",
       "        vertical-align: middle;\n",
       "    }\n",
       "\n",
       "    .dataframe tbody tr th {\n",
       "        vertical-align: top;\n",
       "    }\n",
       "\n",
       "    .dataframe thead th {\n",
       "        text-align: right;\n",
       "    }\n",
       "</style>\n",
       "<table border=\"1\" class=\"dataframe\">\n",
       "  <thead>\n",
       "    <tr style=\"text-align: right;\">\n",
       "      <th></th>\n",
       "      <th>filter1</th>\n",
       "      <th>filter2</th>\n",
       "      <th>filter3</th>\n",
       "    </tr>\n",
       "  </thead>\n",
       "  <tbody>\n",
       "    <tr>\n",
       "      <td>x</td>\n",
       "      <td>6.111111</td>\n",
       "      <td>4.555556</td>\n",
       "      <td>6.111111</td>\n",
       "    </tr>\n",
       "    <tr>\n",
       "      <td>x_rotated</td>\n",
       "      <td>5.444445</td>\n",
       "      <td>3.222222</td>\n",
       "      <td>5.444445</td>\n",
       "    </tr>\n",
       "    <tr>\n",
       "      <td>x_plus</td>\n",
       "      <td>3.222222</td>\n",
       "      <td>1.000000</td>\n",
       "      <td>3.222222</td>\n",
       "    </tr>\n",
       "    <tr>\n",
       "      <td>o</td>\n",
       "      <td>5.888889</td>\n",
       "      <td>3.222222</td>\n",
       "      <td>5.888889</td>\n",
       "    </tr>\n",
       "    <tr>\n",
       "      <td>diamond</td>\n",
       "      <td>6.111111</td>\n",
       "      <td>3.000000</td>\n",
       "      <td>6.111111</td>\n",
       "    </tr>\n",
       "  </tbody>\n",
       "</table>\n",
       "</div>"
      ],
      "text/plain": [
       "            filter1   filter2   filter3\n",
       "x          6.111111  4.555556  6.111111\n",
       "x_rotated  5.444445  3.222222  5.444445\n",
       "x_plus     3.222222  1.000000  3.222222\n",
       "o          5.888889  3.222222  5.888889\n",
       "diamond    6.111111  3.000000  6.111111"
      ]
     },
     "execution_count": 13,
     "metadata": {},
     "output_type": "execute_result"
    }
   ],
   "source": [
    "# それぞれの結果の要素(27個)の和\n",
    "\n",
    "import pandas as pd\n",
    "\n",
    "pd.DataFrame([[res.sum() for res in cnn(img, filter_list)] for img in imgs],\n",
    "             index=names,\n",
    "             columns=[\"filter1\", \"filter2\", \"filter3\"])"
   ]
  },
  {
   "cell_type": "code",
   "execution_count": 14,
   "metadata": {},
   "outputs": [
    {
     "data": {
      "text/html": [
       "<div>\n",
       "<style scoped>\n",
       "    .dataframe tbody tr th:only-of-type {\n",
       "        vertical-align: middle;\n",
       "    }\n",
       "\n",
       "    .dataframe tbody tr th {\n",
       "        vertical-align: top;\n",
       "    }\n",
       "\n",
       "    .dataframe thead th {\n",
       "        text-align: right;\n",
       "    }\n",
       "</style>\n",
       "<table border=\"1\" class=\"dataframe\">\n",
       "  <thead>\n",
       "    <tr style=\"text-align: right;\">\n",
       "      <th></th>\n",
       "      <th>x</th>\n",
       "      <th>x_rotated</th>\n",
       "      <th>x_plus</th>\n",
       "      <th>o</th>\n",
       "      <th>diamond</th>\n",
       "    </tr>\n",
       "  </thead>\n",
       "  <tbody>\n",
       "    <tr>\n",
       "      <td>x</td>\n",
       "      <td>0.000000</td>\n",
       "      <td>0.032922</td>\n",
       "      <td>0.206676</td>\n",
       "      <td>0.120713</td>\n",
       "      <td>0.175583</td>\n",
       "    </tr>\n",
       "    <tr>\n",
       "      <td>x_rotated</td>\n",
       "      <td>0.032922</td>\n",
       "      <td>0.000000</td>\n",
       "      <td>0.100594</td>\n",
       "      <td>0.073160</td>\n",
       "      <td>0.117055</td>\n",
       "    </tr>\n",
       "    <tr>\n",
       "      <td>x_plus</td>\n",
       "      <td>0.206676</td>\n",
       "      <td>0.100594</td>\n",
       "      <td>0.000000</td>\n",
       "      <td>0.137174</td>\n",
       "      <td>0.122542</td>\n",
       "    </tr>\n",
       "    <tr>\n",
       "      <td>o</td>\n",
       "      <td>0.120713</td>\n",
       "      <td>0.073160</td>\n",
       "      <td>0.137174</td>\n",
       "      <td>0.000000</td>\n",
       "      <td>0.175583</td>\n",
       "    </tr>\n",
       "    <tr>\n",
       "      <td>diamond</td>\n",
       "      <td>0.175583</td>\n",
       "      <td>0.117055</td>\n",
       "      <td>0.122542</td>\n",
       "      <td>0.175583</td>\n",
       "      <td>0.000000</td>\n",
       "    </tr>\n",
       "  </tbody>\n",
       "</table>\n",
       "</div>"
      ],
      "text/plain": [
       "           x          x_rotated  x_plus     o          diamond  \n",
       "x           0.000000   0.032922   0.206676   0.120713   0.175583\n",
       "x_rotated   0.032922   0.000000   0.100594   0.073160   0.117055\n",
       "x_plus      0.206676   0.100594   0.000000   0.137174   0.122542\n",
       "o           0.120713   0.073160   0.137174   0.000000   0.175583\n",
       "diamond     0.175583   0.117055   0.122542   0.175583   0.000000"
      ]
     },
     "execution_count": 14,
     "metadata": {},
     "output_type": "execute_result"
    }
   ],
   "source": [
    "# それぞれの結果の差の二乗平均のクロス集計\n",
    "\n",
    "try:\n",
    "    from sklearn.metrics import mean_squared_error as mse\n",
    "    mses = [\n",
    "                [mse(np.array(cnn(img1, filter_list)).flatten(),\n",
    "                     np.array(cnn(img2, filter_list)).flatten())\n",
    "                 for img2 in imgs]\n",
    "            for img1 in imgs]\n",
    "except: # iPadにsklearnを入れられないので発表ではこっちを使います\n",
    "    mses = [[((np.array(cnn(img1, filter_list)).flatten() \\\n",
    "             - np.array(cnn(img2, filter_list)).flatten())**2).mean() for img2 in imgs] for img1 in imgs]\n",
    "    \n",
    "pd.DataFrame(mses, index=names, columns=names)"
   ]
  },
  {
   "cell_type": "markdown",
   "metadata": {},
   "source": [
    "## 実験２（プーリングを平均プーリングに変えてみる）"
   ]
  },
  {
   "cell_type": "code",
   "execution_count": 15,
   "metadata": {},
   "outputs": [],
   "source": [
    "# Averageプーリング\n",
    "\n",
    "def pool(img, filter_size=3):\n",
    "    size = img.shape[0]\n",
    "    res_size = size // filter_size\n",
    "    \n",
    "    res = np.zeros(shape=(res_size, res_size))\n",
    "    \n",
    "    for y in range(size // filter_size):\n",
    "        for x in range(size // filter_size):\n",
    "            res[y, x] = img[y * filter_size : (y + 1) * filter_size, x * filter_size : (x + 1) * filter_size].mean()\n",
    "    return res"
   ]
  },
  {
   "cell_type": "code",
   "execution_count": 16,
   "metadata": {},
   "outputs": [
    {
     "data": {
      "image/png": "[encoded data removed]",
      "text/plain": [
       "<Figure size 972x432 with 4 Axes>"
      ]
     },
     "metadata": {},
     "output_type": "display_data"
    },
    {
     "data": {
      "image/png": "[encoded data removed]",
      "text/plain": [
       "<Figure size 972x432 with 4 Axes>"
      ]
     },
     "metadata": {},
     "output_type": "display_data"
    },
    {
     "data": {
      "image/png": "[encoded data removed]",
      "text/plain": [
       "<Figure size 972x432 with 4 Axes>"
      ]
     },
     "metadata": {},
     "output_type": "display_data"
    },
    {
     "data": {
      "image/png": "[encoded data removed]",
      "text/plain": [
       "<Figure size 972x432 with 4 Axes>"
      ]
     },
     "metadata": {},
     "output_type": "display_data"
    },
    {
     "data": {
      "image/png": "[encoded data removed]",
      "text/plain": [
       "<Figure size 972x432 with 4 Axes>"
      ]
     },
     "metadata": {},
     "output_type": "display_data"
    }
   ],
   "source": [
    "# それぞれの画像にcnnを適用\n",
    "\n",
    "for img in imgs:\n",
    "    imshow([img] + cnn(img, filter_list))"
   ]
  },
  {
   "cell_type": "code",
   "execution_count": 17,
   "metadata": {},
   "outputs": [
    {
     "data": {
      "text/html": [
       "<div>\n",
       "<style scoped>\n",
       "    .dataframe tbody tr th:only-of-type {\n",
       "        vertical-align: middle;\n",
       "    }\n",
       "\n",
       "    .dataframe tbody tr th {\n",
       "        vertical-align: top;\n",
       "    }\n",
       "\n",
       "    .dataframe thead th {\n",
       "        text-align: right;\n",
       "    }\n",
       "</style>\n",
       "<table border=\"1\" class=\"dataframe\">\n",
       "  <thead>\n",
       "    <tr style=\"text-align: right;\">\n",
       "      <th></th>\n",
       "      <th>filter1</th>\n",
       "      <th>filter2</th>\n",
       "      <th>filter3</th>\n",
       "    </tr>\n",
       "  </thead>\n",
       "  <tbody>\n",
       "    <tr>\n",
       "      <td>x</td>\n",
       "      <td>1.938272</td>\n",
       "      <td>1.296296</td>\n",
       "      <td>1.938272</td>\n",
       "    </tr>\n",
       "    <tr>\n",
       "      <td>x_rotated</td>\n",
       "      <td>1.888889</td>\n",
       "      <td>0.703704</td>\n",
       "      <td>1.888889</td>\n",
       "    </tr>\n",
       "    <tr>\n",
       "      <td>x_plus</td>\n",
       "      <td>1.753086</td>\n",
       "      <td>0.395062</td>\n",
       "      <td>1.753086</td>\n",
       "    </tr>\n",
       "    <tr>\n",
       "      <td>o</td>\n",
       "      <td>1.716049</td>\n",
       "      <td>0.790124</td>\n",
       "      <td>1.716049</td>\n",
       "    </tr>\n",
       "    <tr>\n",
       "      <td>diamond</td>\n",
       "      <td>2.012346</td>\n",
       "      <td>1.185185</td>\n",
       "      <td>2.012346</td>\n",
       "    </tr>\n",
       "  </tbody>\n",
       "</table>\n",
       "</div>"
      ],
      "text/plain": [
       "            filter1   filter2   filter3\n",
       "x          1.938272  1.296296  1.938272\n",
       "x_rotated  1.888889  0.703704  1.888889\n",
       "x_plus     1.753086  0.395062  1.753086\n",
       "o          1.716049  0.790124  1.716049\n",
       "diamond    2.012346  1.185185  2.012346"
      ]
     },
     "execution_count": 17,
     "metadata": {},
     "output_type": "execute_result"
    }
   ],
   "source": [
    "# それぞれの結果の要素(27個)の和\n",
    "\n",
    "import pandas as pd\n",
    "\n",
    "pd.DataFrame([[res.sum() for res in cnn(img, filter_list)] for img in imgs],\n",
    "             index=names,\n",
    "             columns=[\"filter1\", \"filter2\", \"filter3\"])"
   ]
  },
  {
   "cell_type": "code",
   "execution_count": 18,
   "metadata": {},
   "outputs": [
    {
     "data": {
      "text/html": [
       "<div>\n",
       "<style scoped>\n",
       "    .dataframe tbody tr th:only-of-type {\n",
       "        vertical-align: middle;\n",
       "    }\n",
       "\n",
       "    .dataframe tbody tr th {\n",
       "        vertical-align: top;\n",
       "    }\n",
       "\n",
       "    .dataframe thead th {\n",
       "        text-align: right;\n",
       "    }\n",
       "</style>\n",
       "<table border=\"1\" class=\"dataframe\">\n",
       "  <thead>\n",
       "    <tr style=\"text-align: right;\">\n",
       "      <th></th>\n",
       "      <th>x</th>\n",
       "      <th>x_rotated</th>\n",
       "      <th>x_plus</th>\n",
       "      <th>o</th>\n",
       "      <th>diamond</th>\n",
       "    </tr>\n",
       "  </thead>\n",
       "  <tbody>\n",
       "    <tr>\n",
       "      <td>x</td>\n",
       "      <td>0.000000</td>\n",
       "      <td>0.003839</td>\n",
       "      <td>0.014491</td>\n",
       "      <td>0.006509</td>\n",
       "      <td>0.010889</td>\n",
       "    </tr>\n",
       "    <tr>\n",
       "      <td>x_rotated</td>\n",
       "      <td>0.003839</td>\n",
       "      <td>0.000000</td>\n",
       "      <td>0.004465</td>\n",
       "      <td>0.003889</td>\n",
       "      <td>0.005154</td>\n",
       "    </tr>\n",
       "    <tr>\n",
       "      <td>x_plus</td>\n",
       "      <td>0.014491</td>\n",
       "      <td>0.004465</td>\n",
       "      <td>0.000000</td>\n",
       "      <td>0.008434</td>\n",
       "      <td>0.007666</td>\n",
       "    </tr>\n",
       "    <tr>\n",
       "      <td>o</td>\n",
       "      <td>0.006509</td>\n",
       "      <td>0.003889</td>\n",
       "      <td>0.008434</td>\n",
       "      <td>0.000000</td>\n",
       "      <td>0.010974</td>\n",
       "    </tr>\n",
       "    <tr>\n",
       "      <td>diamond</td>\n",
       "      <td>0.010889</td>\n",
       "      <td>0.005154</td>\n",
       "      <td>0.007666</td>\n",
       "      <td>0.010974</td>\n",
       "      <td>0.000000</td>\n",
       "    </tr>\n",
       "  </tbody>\n",
       "</table>\n",
       "</div>"
      ],
      "text/plain": [
       "           x          x_rotated  x_plus     o          diamond  \n",
       "x           0.000000   0.003839   0.014491   0.006509   0.010889\n",
       "x_rotated   0.003839   0.000000   0.004465   0.003889   0.005154\n",
       "x_plus      0.014491   0.004465   0.000000   0.008434   0.007666\n",
       "o           0.006509   0.003889   0.008434   0.000000   0.010974\n",
       "diamond     0.010889   0.005154   0.007666   0.010974   0.000000"
      ]
     },
     "execution_count": 18,
     "metadata": {},
     "output_type": "execute_result"
    }
   ],
   "source": [
    "# それぞれの結果の差の二乗平均のクロス集計\n",
    "\n",
    "try:\n",
    "    from sklearn.metrics import mean_squared_error as mse\n",
    "    mses = [\n",
    "                [mse(np.array(cnn(img1, filter_list)).flatten(),\n",
    "                     np.array(cnn(img2, filter_list)).flatten())\n",
    "                 for img2 in imgs]\n",
    "            for img1 in imgs]\n",
    "except: # iPadにsklearnを入れられないので発表ではこっちを使います\n",
    "    mses = [[((np.array(cnn(img1, filter_list)).flatten() \\\n",
    "             - np.array(cnn(img2, filter_list)).flatten())**2).mean() for img2 in imgs] for img1 in imgs]\n",
    "    \n",
    "pd.DataFrame(mses, index=names, columns=names)"
   ]
  },
  {
   "cell_type": "markdown",
   "metadata": {},
   "source": [
    "## 実験３（ズレに強いことを確かめる）"
   ]
  },
  {
   "cell_type": "code",
   "execution_count": 19,
   "metadata": {},
   "outputs": [
    {
     "data": {
      "image/png": "[encoded data removed]",
      "text/plain": [
       "<Figure size 1224x432 with 5 Axes>"
      ]
     },
     "metadata": {},
     "output_type": "display_data"
    },
    {
     "data": {
      "image/png": "[encoded data removed]",
      "text/plain": [
       "<Figure size 1224x432 with 5 Axes>"
      ]
     },
     "metadata": {},
     "output_type": "display_data"
    }
   ],
   "source": [
    "x_up    = np.pad(x[1:,  :], ((0, 1), (0, 0)), mode=\"constant\")\n",
    "x_down  = np.pad(x[:-1, :], ((1, 0), (0, 0)), mode=\"constant\")\n",
    "x_left  = np.pad(x[:,  1:], ((0, 0), (0, 1)), mode=\"constant\")\n",
    "x_right = np.pad(x[:, :-1], ((0, 0), (1, 0)), mode=\"constant\")\n",
    "\n",
    "x_upleft    = np.pad(x[ 1:,  1:], ((0, 1), (0, 1)), mode=\"constant\")\n",
    "x_upright   = np.pad(x[ 1:, :-1], ((0, 1), (1, 0)), mode=\"constant\")\n",
    "x_downleft  = np.pad(x[:-1,  1:], ((1, 0), (0, 1)), mode=\"constant\")\n",
    "x_downright = np.pad(x[:-1, :-1], ((1, 0), (1, 0)), mode=\"constant\")\n",
    "\n",
    "# コードを使いまわすために，上で使った変数を更新します。すみません。\n",
    "imgs  = [x, x_up, x_down, x_left, x_right, x, x_upleft, x_upright, x_downleft, x_downright]\n",
    "names = [\"x          \",\n",
    "         \"x_up       \",\n",
    "         \"x_down     \",\n",
    "         \"x_left     \",\n",
    "         \"x_right    \",\n",
    "         \"x          \",\n",
    "         \"x_upleft   \",\n",
    "         \"x_upright  \",\n",
    "         \"x_downleft \",\n",
    "         \"x_downright\"]\n",
    "\n",
    "imshow(imgs[:5])\n",
    "imshow(imgs[5:])"
   ]
  },
  {
   "cell_type": "code",
   "execution_count": 20,
   "metadata": {},
   "outputs": [
    {
     "data": {
      "image/png": "[encoded data removed]",
      "text/plain": [
       "<Figure size 1980x432 with 8 Axes>"
      ]
     },
     "metadata": {},
     "output_type": "display_data"
    },
    {
     "data": {
      "image/png": "[encoded data removed]",
      "text/plain": [
       "<Figure size 1980x432 with 8 Axes>"
      ]
     },
     "metadata": {},
     "output_type": "display_data"
    },
    {
     "data": {
      "image/png": "[encoded data removed]",
      "text/plain": [
       "<Figure size 1980x432 with 8 Axes>"
      ]
     },
     "metadata": {},
     "output_type": "display_data"
    },
    {
     "data": {
      "image/png": "[encoded data removed]",
      "text/plain": [
       "<Figure size 1980x432 with 8 Axes>"
      ]
     },
     "metadata": {},
     "output_type": "display_data"
    },
    {
     "data": {
      "image/png": "[encoded data removed]",
      "text/plain": [
       "<Figure size 1980x432 with 8 Axes>"
      ]
     },
     "metadata": {},
     "output_type": "display_data"
    }
   ],
   "source": [
    "# それぞれの画像を3枚のフィルターで畳み込み\n",
    "\n",
    "for img_tuple in zip(imgs[:5], imgs[5:]):\n",
    "    ls = []\n",
    "    for img in img_tuple:\n",
    "        ls.append(img)\n",
    "        for filter in filter_list:\n",
    "            ls.append(conv(img, filter))\n",
    "    imshow(ls)"
   ]
  },
  {
   "cell_type": "code",
   "execution_count": 21,
   "metadata": {
    "scrolled": false
   },
   "outputs": [
    {
     "data": {
      "image/png": "[encoded data removed]",
      "text/plain": [
       "<Figure size 1980x432 with 8 Axes>"
      ]
     },
     "metadata": {},
     "output_type": "display_data"
    },
    {
     "data": {
      "image/png": "[encoded data removed]",
      "text/plain": [
       "<Figure size 1980x432 with 8 Axes>"
      ]
     },
     "metadata": {},
     "output_type": "display_data"
    },
    {
     "data": {
      "image/png": "[encoded data removed]",
      "text/plain": [
       "<Figure size 1980x432 with 8 Axes>"
      ]
     },
     "metadata": {},
     "output_type": "display_data"
    },
    {
     "data": {
      "image/png": "[encoded data removed]",
      "text/plain": [
       "<Figure size 1980x432 with 8 Axes>"
      ]
     },
     "metadata": {},
     "output_type": "display_data"
    },
    {
     "data": {
      "image/png": "[encoded data removed]",
      "text/plain": [
       "<Figure size 1980x432 with 8 Axes>"
      ]
     },
     "metadata": {},
     "output_type": "display_data"
    }
   ],
   "source": [
    "# それぞれの画像にcnnを適用\n",
    "\n",
    "for img_tuple in zip(imgs[:5], imgs[5:]):\n",
    "    ls = []\n",
    "    for img in img_tuple:\n",
    "        ls.append(img)\n",
    "        ls += cnn(img, filter_list)\n",
    "    imshow(ls)"
   ]
  },
  {
   "cell_type": "code",
   "execution_count": 22,
   "metadata": {},
   "outputs": [
    {
     "data": {
      "text/html": [
       "<div>\n",
       "<style scoped>\n",
       "    .dataframe tbody tr th:only-of-type {\n",
       "        vertical-align: middle;\n",
       "    }\n",
       "\n",
       "    .dataframe tbody tr th {\n",
       "        vertical-align: top;\n",
       "    }\n",
       "\n",
       "    .dataframe thead th {\n",
       "        text-align: right;\n",
       "    }\n",
       "</style>\n",
       "<table border=\"1\" class=\"dataframe\">\n",
       "  <thead>\n",
       "    <tr style=\"text-align: right;\">\n",
       "      <th></th>\n",
       "      <th>filter1</th>\n",
       "      <th>filter2</th>\n",
       "      <th>filter3</th>\n",
       "    </tr>\n",
       "  </thead>\n",
       "  <tbody>\n",
       "    <tr>\n",
       "      <td>x</td>\n",
       "      <td>1.938272</td>\n",
       "      <td>1.296296</td>\n",
       "      <td>1.938272</td>\n",
       "    </tr>\n",
       "    <tr>\n",
       "      <td>x_up</td>\n",
       "      <td>1.839506</td>\n",
       "      <td>1.246914</td>\n",
       "      <td>1.839506</td>\n",
       "    </tr>\n",
       "    <tr>\n",
       "      <td>x_down</td>\n",
       "      <td>1.839506</td>\n",
       "      <td>1.246914</td>\n",
       "      <td>1.839506</td>\n",
       "    </tr>\n",
       "    <tr>\n",
       "      <td>x_left</td>\n",
       "      <td>1.839506</td>\n",
       "      <td>1.246914</td>\n",
       "      <td>1.839506</td>\n",
       "    </tr>\n",
       "    <tr>\n",
       "      <td>x_right</td>\n",
       "      <td>1.839506</td>\n",
       "      <td>1.246914</td>\n",
       "      <td>1.839506</td>\n",
       "    </tr>\n",
       "    <tr>\n",
       "      <td>x_upleft</td>\n",
       "      <td>1.728395</td>\n",
       "      <td>1.209877</td>\n",
       "      <td>1.740741</td>\n",
       "    </tr>\n",
       "    <tr>\n",
       "      <td>x_upright</td>\n",
       "      <td>1.740741</td>\n",
       "      <td>1.209877</td>\n",
       "      <td>1.728395</td>\n",
       "    </tr>\n",
       "    <tr>\n",
       "      <td>x_downleft</td>\n",
       "      <td>1.740741</td>\n",
       "      <td>1.209877</td>\n",
       "      <td>1.728395</td>\n",
       "    </tr>\n",
       "    <tr>\n",
       "      <td>x_downright</td>\n",
       "      <td>1.728395</td>\n",
       "      <td>1.209877</td>\n",
       "      <td>1.740741</td>\n",
       "    </tr>\n",
       "  </tbody>\n",
       "</table>\n",
       "</div>"
      ],
      "text/plain": [
       "              filter1   filter2   filter3\n",
       "x            1.938272  1.296296  1.938272\n",
       "x_up         1.839506  1.246914  1.839506\n",
       "x_down       1.839506  1.246914  1.839506\n",
       "x_left       1.839506  1.246914  1.839506\n",
       "x_right      1.839506  1.246914  1.839506\n",
       "x_upleft     1.728395  1.209877  1.740741\n",
       "x_upright    1.740741  1.209877  1.728395\n",
       "x_downleft   1.740741  1.209877  1.728395\n",
       "x_downright  1.728395  1.209877  1.740741"
      ]
     },
     "execution_count": 22,
     "metadata": {},
     "output_type": "execute_result"
    }
   ],
   "source": [
    "# それぞれの結果の要素(27個)の和\n",
    "\n",
    "pd.DataFrame([[res.sum() for res in cnn(img, filter_list)] for img in imgs[:5] + imgs[6:]],\n",
    "             index=names[:5] + names[6:],\n",
    "             columns=[\"filter1\", \"filter2\", \"filter3\"])"
   ]
  },
  {
   "cell_type": "code",
   "execution_count": 23,
   "metadata": {
    "scrolled": true
   },
   "outputs": [
    {
     "data": {
      "text/html": [
       "<div>\n",
       "<style scoped>\n",
       "    .dataframe tbody tr th:only-of-type {\n",
       "        vertical-align: middle;\n",
       "    }\n",
       "\n",
       "    .dataframe tbody tr th {\n",
       "        vertical-align: top;\n",
       "    }\n",
       "\n",
       "    .dataframe thead th {\n",
       "        text-align: right;\n",
       "    }\n",
       "</style>\n",
       "<table border=\"1\" class=\"dataframe\">\n",
       "  <thead>\n",
       "    <tr style=\"text-align: right;\">\n",
       "      <th></th>\n",
       "      <th>x</th>\n",
       "      <th>x_up</th>\n",
       "      <th>x_down</th>\n",
       "      <th>x_left</th>\n",
       "      <th>x_right</th>\n",
       "      <th>x_upleft</th>\n",
       "      <th>x_upright</th>\n",
       "      <th>x_downleft</th>\n",
       "      <th>x_downright</th>\n",
       "    </tr>\n",
       "  </thead>\n",
       "  <tbody>\n",
       "    <tr>\n",
       "      <td>x</td>\n",
       "      <td>0.000000</td>\n",
       "      <td>0.003410</td>\n",
       "      <td>0.003410</td>\n",
       "      <td>0.003410</td>\n",
       "      <td>0.003410</td>\n",
       "      <td>0.005893</td>\n",
       "      <td>0.005893</td>\n",
       "      <td>0.005893</td>\n",
       "      <td>0.005893</td>\n",
       "    </tr>\n",
       "    <tr>\n",
       "      <td>x_up</td>\n",
       "      <td>0.003410</td>\n",
       "      <td>0.000000</td>\n",
       "      <td>0.004437</td>\n",
       "      <td>0.002371</td>\n",
       "      <td>0.002371</td>\n",
       "      <td>0.004076</td>\n",
       "      <td>0.004076</td>\n",
       "      <td>0.007824</td>\n",
       "      <td>0.007824</td>\n",
       "    </tr>\n",
       "    <tr>\n",
       "      <td>x_down</td>\n",
       "      <td>0.003410</td>\n",
       "      <td>0.004437</td>\n",
       "      <td>0.000000</td>\n",
       "      <td>0.002371</td>\n",
       "      <td>0.002371</td>\n",
       "      <td>0.007824</td>\n",
       "      <td>0.007824</td>\n",
       "      <td>0.004076</td>\n",
       "      <td>0.004076</td>\n",
       "    </tr>\n",
       "    <tr>\n",
       "      <td>x_left</td>\n",
       "      <td>0.003410</td>\n",
       "      <td>0.002371</td>\n",
       "      <td>0.002371</td>\n",
       "      <td>0.000000</td>\n",
       "      <td>0.004437</td>\n",
       "      <td>0.004076</td>\n",
       "      <td>0.007824</td>\n",
       "      <td>0.004076</td>\n",
       "      <td>0.007824</td>\n",
       "    </tr>\n",
       "    <tr>\n",
       "      <td>x_right</td>\n",
       "      <td>0.003410</td>\n",
       "      <td>0.002371</td>\n",
       "      <td>0.002371</td>\n",
       "      <td>0.004437</td>\n",
       "      <td>0.000000</td>\n",
       "      <td>0.007824</td>\n",
       "      <td>0.004076</td>\n",
       "      <td>0.007824</td>\n",
       "      <td>0.004076</td>\n",
       "    </tr>\n",
       "    <tr>\n",
       "      <td>x_upleft</td>\n",
       "      <td>0.005893</td>\n",
       "      <td>0.004076</td>\n",
       "      <td>0.007824</td>\n",
       "      <td>0.004076</td>\n",
       "      <td>0.007824</td>\n",
       "      <td>0.000000</td>\n",
       "      <td>0.012826</td>\n",
       "      <td>0.012826</td>\n",
       "      <td>0.006932</td>\n",
       "    </tr>\n",
       "    <tr>\n",
       "      <td>x_upright</td>\n",
       "      <td>0.005893</td>\n",
       "      <td>0.004076</td>\n",
       "      <td>0.007824</td>\n",
       "      <td>0.007824</td>\n",
       "      <td>0.004076</td>\n",
       "      <td>0.012826</td>\n",
       "      <td>0.000000</td>\n",
       "      <td>0.006932</td>\n",
       "      <td>0.012826</td>\n",
       "    </tr>\n",
       "    <tr>\n",
       "      <td>x_downleft</td>\n",
       "      <td>0.005893</td>\n",
       "      <td>0.007824</td>\n",
       "      <td>0.004076</td>\n",
       "      <td>0.004076</td>\n",
       "      <td>0.007824</td>\n",
       "      <td>0.012826</td>\n",
       "      <td>0.006932</td>\n",
       "      <td>0.000000</td>\n",
       "      <td>0.012826</td>\n",
       "    </tr>\n",
       "    <tr>\n",
       "      <td>x_downright</td>\n",
       "      <td>0.005893</td>\n",
       "      <td>0.007824</td>\n",
       "      <td>0.004076</td>\n",
       "      <td>0.007824</td>\n",
       "      <td>0.004076</td>\n",
       "      <td>0.006932</td>\n",
       "      <td>0.012826</td>\n",
       "      <td>0.012826</td>\n",
       "      <td>0.000000</td>\n",
       "    </tr>\n",
       "  </tbody>\n",
       "</table>\n",
       "</div>"
      ],
      "text/plain": [
       "             x            x_up         x_down       x_left       x_right      \\\n",
       "x               0.000000     0.003410     0.003410     0.003410     0.003410   \n",
       "x_up            0.003410     0.000000     0.004437     0.002371     0.002371   \n",
       "x_down          0.003410     0.004437     0.000000     0.002371     0.002371   \n",
       "x_left          0.003410     0.002371     0.002371     0.000000     0.004437   \n",
       "x_right         0.003410     0.002371     0.002371     0.004437     0.000000   \n",
       "x_upleft        0.005893     0.004076     0.007824     0.004076     0.007824   \n",
       "x_upright       0.005893     0.004076     0.007824     0.007824     0.004076   \n",
       "x_downleft      0.005893     0.007824     0.004076     0.004076     0.007824   \n",
       "x_downright     0.005893     0.007824     0.004076     0.007824     0.004076   \n",
       "\n",
       "             x_upleft     x_upright    x_downleft   x_downright  \n",
       "x               0.005893     0.005893     0.005893     0.005893  \n",
       "x_up            0.004076     0.004076     0.007824     0.007824  \n",
       "x_down          0.007824     0.007824     0.004076     0.004076  \n",
       "x_left          0.004076     0.007824     0.004076     0.007824  \n",
       "x_right         0.007824     0.004076     0.007824     0.004076  \n",
       "x_upleft        0.000000     0.012826     0.012826     0.006932  \n",
       "x_upright       0.012826     0.000000     0.006932     0.012826  \n",
       "x_downleft      0.012826     0.006932     0.000000     0.012826  \n",
       "x_downright     0.006932     0.012826     0.012826     0.000000  "
      ]
     },
     "execution_count": 23,
     "metadata": {},
     "output_type": "execute_result"
    }
   ],
   "source": [
    "# それぞれの結果の差の二乗平均のクロス集計\n",
    "\n",
    "try:\n",
    "    mses = [\n",
    "                [mse(np.array(cnn(img1, filter_list)).flatten(),\n",
    "                     np.array(cnn(img2, filter_list)).flatten())\n",
    "                 for img2 in imgs[:5] + imgs[6:]]\n",
    "            for img1 in imgs[:5] + imgs[6:]]\n",
    "except: # iPadにsklearnを入れられないので発表ではこっちを使います\n",
    "    mses = [\n",
    "                [((np.array(cnn(img1, filter_list)).flatten() \\\n",
    "                 - np.array(cnn(img2, filter_list)).flatten())**2) \\\n",
    "                 .mean() for img2 in imgs[:5] + imgs[6:]]\n",
    "            for img1 in imgs[:5] + imgs[6:]]\n",
    "    \n",
    "pd.DataFrame(mses, index=names[:5]+names[6:], columns=names[:5]+names[6:])"
   ]
  },
  {
   "cell_type": "markdown",
   "metadata": {},
   "source": [
    "**参考サイト**\n",
    "\n",
    "・畳み込みニューラルネットワークの仕組み(https://postd.cc/how-do-convolutional-neural-networks-work/)"
   ]
  },
  {
   "cell_type": "code",
   "execution_count": null,
   "metadata": {},
   "outputs": [],
   "source": []
  }
 ],
 "metadata": {
  "kernelspec": {
   "display_name": "Python 3",
   "language": "python",
   "name": "python3"
  },
  "language_info": {
   "codemirror_mode": {
    "name": "ipython",
    "version": 3
   },
   "file_extension": ".py",
   "mimetype": "text/x-python",
   "name": "python",
   "nbconvert_exporter": "python",
   "pygments_lexer": "ipython3",
   "version": "3.7.4"
  },
  "toc": {
   "base_numbering": 1,
   "nav_menu": {},
   "number_sections": false,
   "sideBar": false,
   "skip_h1_title": false,
   "title_cell": "Table of Contents",
   "title_sidebar": "Contents",
   "toc_cell": false,
   "toc_position": {},
   "toc_section_display": true,
   "toc_window_display": false
  }
 },
 "nbformat": 4,
 "nbformat_minor": 2
}
